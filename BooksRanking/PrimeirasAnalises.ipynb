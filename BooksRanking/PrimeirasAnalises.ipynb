{
 "cells": [
  {
   "cell_type": "code",
   "execution_count": 1,
   "id": "1d4fe9d6",
   "metadata": {
    "_cell_guid": "b1076dfc-b9ad-4769-8c92-a6c4dae69d19",
    "_uuid": "8f2839f25d086af736a60e9eeb907d3b93b6e0e5",
    "execution": {
     "iopub.execute_input": "2024-05-01T03:28:18.612971Z",
     "iopub.status.busy": "2024-05-01T03:28:18.612578Z",
     "iopub.status.idle": "2024-05-01T03:28:19.471685Z",
     "shell.execute_reply": "2024-05-01T03:28:19.470488Z"
    },
    "papermill": {
     "duration": 0.869483,
     "end_time": "2024-05-01T03:28:19.475318",
     "exception": false,
     "start_time": "2024-05-01T03:28:18.605835",
     "status": "completed"
    },
    "tags": []
   },
   "outputs": [
    {
     "name": "stdout",
     "output_type": "stream",
     "text": [
      "/kaggle/input/amazon-books-reviews/books_data.csv\n",
      "/kaggle/input/amazon-books-reviews/Books_rating.csv\n"
     ]
    }
   ],
   "source": [
    "# This Python 3 environment comes with many helpful analytics libraries installed\n",
    "# It is defined by the kaggle/python Docker image: https://github.com/kaggle/docker-python\n",
    "# For example, here's several helpful packages to load\n",
    "\n",
    "import numpy as np # linear algebra\n",
    "import pandas as pd # data processing, CSV file I/O (e.g. pd.read_csv)\n",
    "\n",
    "# Input data files are available in the read-only \"../input/\" directory\n",
    "# For example, running this (by clicking run or pressing Shift+Enter) will list all files under the input directory\n",
    "\n",
    "import os\n",
    "for dirname, _, filenames in os.walk('/kaggle/input'):\n",
    "    for filename in filenames:\n",
    "        print(os.path.join(dirname, filename))\n",
    "\n",
    "# You can write up to 20GB to the current directory (/kaggle/working/) that gets preserved as output when you create a version using \"Save & Run All\" \n",
    "# You can also write temporary files to /kaggle/temp/, but they won't be saved outside of the current session"
   ]
  },
  {
   "cell_type": "markdown",
   "id": "a6b6295b",
   "metadata": {
    "papermill": {
     "duration": 0.005489,
     "end_time": "2024-05-01T03:28:19.486201",
     "exception": false,
     "start_time": "2024-05-01T03:28:19.480712",
     "status": "completed"
    },
    "tags": []
   },
   "source": [
    "Vou capturar e selecionar os dados para minha análise. Cujo o objetivo é mostrar e classificar os 100 livros mais vendidos."
   ]
  },
  {
   "cell_type": "code",
   "execution_count": 2,
   "id": "5cdf18dc",
   "metadata": {
    "execution": {
     "iopub.execute_input": "2024-05-01T03:28:19.497808Z",
     "iopub.status.busy": "2024-05-01T03:28:19.497321Z",
     "iopub.status.idle": "2024-05-01T03:29:39.499623Z",
     "shell.execute_reply": "2024-05-01T03:29:39.498540Z"
    },
    "papermill": {
     "duration": 80.011438,
     "end_time": "2024-05-01T03:29:39.502568",
     "exception": false,
     "start_time": "2024-05-01T03:28:19.491130",
     "status": "completed"
    },
    "tags": []
   },
   "outputs": [],
   "source": [
    "#Carregando os data frames\n",
    "\n",
    "df_books = pd.read_csv(\"/kaggle/input/amazon-books-reviews/books_data.csv\")\n",
    "df_ratings = pd.read_csv(\"/kaggle/input/amazon-books-reviews/Books_rating.csv\")"
   ]
  },
  {
   "cell_type": "code",
   "execution_count": 3,
   "id": "c2b93aa5",
   "metadata": {
    "execution": {
     "iopub.execute_input": "2024-05-01T03:29:39.514316Z",
     "iopub.status.busy": "2024-05-01T03:29:39.513948Z",
     "iopub.status.idle": "2024-05-01T03:29:39.657477Z",
     "shell.execute_reply": "2024-05-01T03:29:39.656288Z"
    },
    "papermill": {
     "duration": 0.152315,
     "end_time": "2024-05-01T03:29:39.660241",
     "exception": false,
     "start_time": "2024-05-01T03:29:39.507926",
     "status": "completed"
    },
    "tags": []
   },
   "outputs": [
    {
     "name": "stdout",
     "output_type": "stream",
     "text": [
      "<class 'pandas.core.frame.DataFrame'>\n",
      "RangeIndex: 212404 entries, 0 to 212403\n",
      "Data columns (total 10 columns):\n",
      " #   Column         Non-Null Count   Dtype  \n",
      "---  ------         --------------   -----  \n",
      " 0   Title          212403 non-null  object \n",
      " 1   description    143962 non-null  object \n",
      " 2   authors        180991 non-null  object \n",
      " 3   image          160329 non-null  object \n",
      " 4   previewLink    188568 non-null  object \n",
      " 5   publisher      136518 non-null  object \n",
      " 6   publishedDate  187099 non-null  object \n",
      " 7   infoLink       188568 non-null  object \n",
      " 8   categories     171205 non-null  object \n",
      " 9   ratingsCount   49752 non-null   float64\n",
      "dtypes: float64(1), object(9)\n",
      "memory usage: 16.2+ MB\n"
     ]
    }
   ],
   "source": [
    "df_books.info()"
   ]
  },
  {
   "cell_type": "code",
   "execution_count": 4,
   "id": "0484f54b",
   "metadata": {
    "execution": {
     "iopub.execute_input": "2024-05-01T03:29:39.672014Z",
     "iopub.status.busy": "2024-05-01T03:29:39.671615Z",
     "iopub.status.idle": "2024-05-01T03:29:39.683924Z",
     "shell.execute_reply": "2024-05-01T03:29:39.682588Z"
    },
    "papermill": {
     "duration": 0.02082,
     "end_time": "2024-05-01T03:29:39.686078",
     "exception": false,
     "start_time": "2024-05-01T03:29:39.665258",
     "status": "completed"
    },
    "tags": []
   },
   "outputs": [
    {
     "name": "stdout",
     "output_type": "stream",
     "text": [
      "<class 'pandas.core.frame.DataFrame'>\n",
      "RangeIndex: 3000000 entries, 0 to 2999999\n",
      "Data columns (total 10 columns):\n",
      " #   Column              Dtype  \n",
      "---  ------              -----  \n",
      " 0   Id                  object \n",
      " 1   Title               object \n",
      " 2   Price               float64\n",
      " 3   User_id             object \n",
      " 4   profileName         object \n",
      " 5   review/helpfulness  object \n",
      " 6   review/score        float64\n",
      " 7   review/time         int64  \n",
      " 8   review/summary      object \n",
      " 9   review/text         object \n",
      "dtypes: float64(2), int64(1), object(7)\n",
      "memory usage: 228.9+ MB\n"
     ]
    }
   ],
   "source": [
    "df_ratings.info()"
   ]
  },
  {
   "cell_type": "markdown",
   "id": "5799f344",
   "metadata": {
    "papermill": {
     "duration": 0.004834,
     "end_time": "2024-05-01T03:29:39.696209",
     "exception": false,
     "start_time": "2024-05-01T03:29:39.691375",
     "status": "completed"
    },
    "tags": []
   },
   "source": [
    "Posso classificar os livros por:\n",
    "* autor\n",
    "* editora\n",
    "* data de publicação\n",
    "* quantidade de avaliações\n",
    "* categoria\n",
    "* score\n",
    "* nível de satisfação\n",
    "* preço"
   ]
  },
  {
   "cell_type": "code",
   "execution_count": 5,
   "id": "2677892e",
   "metadata": {
    "execution": {
     "iopub.execute_input": "2024-05-01T03:29:39.708072Z",
     "iopub.status.busy": "2024-05-01T03:29:39.707642Z",
     "iopub.status.idle": "2024-05-01T03:29:41.265663Z",
     "shell.execute_reply": "2024-05-01T03:29:41.264480Z"
    },
    "papermill": {
     "duration": 1.566953,
     "end_time": "2024-05-01T03:29:41.268251",
     "exception": false,
     "start_time": "2024-05-01T03:29:39.701298",
     "status": "completed"
    },
    "tags": []
   },
   "outputs": [],
   "source": [
    "df_temp = df_ratings.merge(df_books, on='Title', how='left') "
   ]
  },
  {
   "cell_type": "code",
   "execution_count": 6,
   "id": "88506540",
   "metadata": {
    "execution": {
     "iopub.execute_input": "2024-05-01T03:29:41.279999Z",
     "iopub.status.busy": "2024-05-01T03:29:41.279640Z",
     "iopub.status.idle": "2024-05-01T03:29:41.305912Z",
     "shell.execute_reply": "2024-05-01T03:29:41.304888Z"
    },
    "papermill": {
     "duration": 0.0348,
     "end_time": "2024-05-01T03:29:41.308194",
     "exception": false,
     "start_time": "2024-05-01T03:29:41.273394",
     "status": "completed"
    },
    "tags": []
   },
   "outputs": [
    {
     "data": {
      "text/html": [
       "<div>\n",
       "<style scoped>\n",
       "    .dataframe tbody tr th:only-of-type {\n",
       "        vertical-align: middle;\n",
       "    }\n",
       "\n",
       "    .dataframe tbody tr th {\n",
       "        vertical-align: top;\n",
       "    }\n",
       "\n",
       "    .dataframe thead th {\n",
       "        text-align: right;\n",
       "    }\n",
       "</style>\n",
       "<table border=\"1\" class=\"dataframe\">\n",
       "  <thead>\n",
       "    <tr style=\"text-align: right;\">\n",
       "      <th></th>\n",
       "      <th>Id</th>\n",
       "      <th>Title</th>\n",
       "      <th>Price</th>\n",
       "      <th>User_id</th>\n",
       "      <th>profileName</th>\n",
       "      <th>review/helpfulness</th>\n",
       "      <th>review/score</th>\n",
       "      <th>review/time</th>\n",
       "      <th>review/summary</th>\n",
       "      <th>review/text</th>\n",
       "      <th>description</th>\n",
       "      <th>authors</th>\n",
       "      <th>image</th>\n",
       "      <th>previewLink</th>\n",
       "      <th>publisher</th>\n",
       "      <th>publishedDate</th>\n",
       "      <th>infoLink</th>\n",
       "      <th>categories</th>\n",
       "      <th>ratingsCount</th>\n",
       "    </tr>\n",
       "  </thead>\n",
       "  <tbody>\n",
       "    <tr>\n",
       "      <th>0</th>\n",
       "      <td>1882931173</td>\n",
       "      <td>Its Only Art If Its Well Hung!</td>\n",
       "      <td>NaN</td>\n",
       "      <td>AVCGYZL8FQQTD</td>\n",
       "      <td>Jim of Oz \"jim-of-oz\"</td>\n",
       "      <td>7/7</td>\n",
       "      <td>4.0</td>\n",
       "      <td>940636800</td>\n",
       "      <td>Nice collection of Julie Strain images</td>\n",
       "      <td>This is only for Julie Strain fans. It's a col...</td>\n",
       "      <td>NaN</td>\n",
       "      <td>['Julie Strain']</td>\n",
       "      <td>http://books.google.com/books/content?id=DykPA...</td>\n",
       "      <td>http://books.google.nl/books?id=DykPAAAACAAJ&amp;d...</td>\n",
       "      <td>NaN</td>\n",
       "      <td>1996</td>\n",
       "      <td>http://books.google.nl/books?id=DykPAAAACAAJ&amp;d...</td>\n",
       "      <td>['Comics &amp; Graphic Novels']</td>\n",
       "      <td>NaN</td>\n",
       "    </tr>\n",
       "    <tr>\n",
       "      <th>1</th>\n",
       "      <td>0826414346</td>\n",
       "      <td>Dr. Seuss: American Icon</td>\n",
       "      <td>NaN</td>\n",
       "      <td>A30TK6U7DNS82R</td>\n",
       "      <td>Kevin Killian</td>\n",
       "      <td>10/10</td>\n",
       "      <td>5.0</td>\n",
       "      <td>1095724800</td>\n",
       "      <td>Really Enjoyed It</td>\n",
       "      <td>I don't care much for Dr. Seuss but after read...</td>\n",
       "      <td>Philip Nel takes a fascinating look into the k...</td>\n",
       "      <td>['Philip Nel']</td>\n",
       "      <td>http://books.google.com/books/content?id=IjvHQ...</td>\n",
       "      <td>http://books.google.nl/books?id=IjvHQsCn_pgC&amp;p...</td>\n",
       "      <td>A&amp;C Black</td>\n",
       "      <td>2005-01-01</td>\n",
       "      <td>http://books.google.nl/books?id=IjvHQsCn_pgC&amp;d...</td>\n",
       "      <td>['Biography &amp; Autobiography']</td>\n",
       "      <td>NaN</td>\n",
       "    </tr>\n",
       "    <tr>\n",
       "      <th>2</th>\n",
       "      <td>0826414346</td>\n",
       "      <td>Dr. Seuss: American Icon</td>\n",
       "      <td>NaN</td>\n",
       "      <td>A3UH4UZ4RSVO82</td>\n",
       "      <td>John Granger</td>\n",
       "      <td>10/11</td>\n",
       "      <td>5.0</td>\n",
       "      <td>1078790400</td>\n",
       "      <td>Essential for every personal and Public Library</td>\n",
       "      <td>If people become the books they read and if \"t...</td>\n",
       "      <td>Philip Nel takes a fascinating look into the k...</td>\n",
       "      <td>['Philip Nel']</td>\n",
       "      <td>http://books.google.com/books/content?id=IjvHQ...</td>\n",
       "      <td>http://books.google.nl/books?id=IjvHQsCn_pgC&amp;p...</td>\n",
       "      <td>A&amp;C Black</td>\n",
       "      <td>2005-01-01</td>\n",
       "      <td>http://books.google.nl/books?id=IjvHQsCn_pgC&amp;d...</td>\n",
       "      <td>['Biography &amp; Autobiography']</td>\n",
       "      <td>NaN</td>\n",
       "    </tr>\n",
       "    <tr>\n",
       "      <th>3</th>\n",
       "      <td>0826414346</td>\n",
       "      <td>Dr. Seuss: American Icon</td>\n",
       "      <td>NaN</td>\n",
       "      <td>A2MVUWT453QH61</td>\n",
       "      <td>Roy E. Perry \"amateur philosopher\"</td>\n",
       "      <td>7/7</td>\n",
       "      <td>4.0</td>\n",
       "      <td>1090713600</td>\n",
       "      <td>Phlip Nel gives silly Seuss a serious treatment</td>\n",
       "      <td>Theodore Seuss Geisel (1904-1991), aka &amp;quot;D...</td>\n",
       "      <td>Philip Nel takes a fascinating look into the k...</td>\n",
       "      <td>['Philip Nel']</td>\n",
       "      <td>http://books.google.com/books/content?id=IjvHQ...</td>\n",
       "      <td>http://books.google.nl/books?id=IjvHQsCn_pgC&amp;p...</td>\n",
       "      <td>A&amp;C Black</td>\n",
       "      <td>2005-01-01</td>\n",
       "      <td>http://books.google.nl/books?id=IjvHQsCn_pgC&amp;d...</td>\n",
       "      <td>['Biography &amp; Autobiography']</td>\n",
       "      <td>NaN</td>\n",
       "    </tr>\n",
       "    <tr>\n",
       "      <th>4</th>\n",
       "      <td>0826414346</td>\n",
       "      <td>Dr. Seuss: American Icon</td>\n",
       "      <td>NaN</td>\n",
       "      <td>A22X4XUPKF66MR</td>\n",
       "      <td>D. H. Richards \"ninthwavestore\"</td>\n",
       "      <td>3/3</td>\n",
       "      <td>4.0</td>\n",
       "      <td>1107993600</td>\n",
       "      <td>Good academic overview</td>\n",
       "      <td>Philip Nel - Dr. Seuss: American IconThis is b...</td>\n",
       "      <td>Philip Nel takes a fascinating look into the k...</td>\n",
       "      <td>['Philip Nel']</td>\n",
       "      <td>http://books.google.com/books/content?id=IjvHQ...</td>\n",
       "      <td>http://books.google.nl/books?id=IjvHQsCn_pgC&amp;p...</td>\n",
       "      <td>A&amp;C Black</td>\n",
       "      <td>2005-01-01</td>\n",
       "      <td>http://books.google.nl/books?id=IjvHQsCn_pgC&amp;d...</td>\n",
       "      <td>['Biography &amp; Autobiography']</td>\n",
       "      <td>NaN</td>\n",
       "    </tr>\n",
       "  </tbody>\n",
       "</table>\n",
       "</div>"
      ],
      "text/plain": [
       "           Id                           Title  Price         User_id  \\\n",
       "0  1882931173  Its Only Art If Its Well Hung!    NaN   AVCGYZL8FQQTD   \n",
       "1  0826414346        Dr. Seuss: American Icon    NaN  A30TK6U7DNS82R   \n",
       "2  0826414346        Dr. Seuss: American Icon    NaN  A3UH4UZ4RSVO82   \n",
       "3  0826414346        Dr. Seuss: American Icon    NaN  A2MVUWT453QH61   \n",
       "4  0826414346        Dr. Seuss: American Icon    NaN  A22X4XUPKF66MR   \n",
       "\n",
       "                          profileName review/helpfulness  review/score  \\\n",
       "0               Jim of Oz \"jim-of-oz\"                7/7           4.0   \n",
       "1                       Kevin Killian              10/10           5.0   \n",
       "2                        John Granger              10/11           5.0   \n",
       "3  Roy E. Perry \"amateur philosopher\"                7/7           4.0   \n",
       "4     D. H. Richards \"ninthwavestore\"                3/3           4.0   \n",
       "\n",
       "   review/time                                   review/summary  \\\n",
       "0    940636800           Nice collection of Julie Strain images   \n",
       "1   1095724800                                Really Enjoyed It   \n",
       "2   1078790400  Essential for every personal and Public Library   \n",
       "3   1090713600  Phlip Nel gives silly Seuss a serious treatment   \n",
       "4   1107993600                           Good academic overview   \n",
       "\n",
       "                                         review/text  \\\n",
       "0  This is only for Julie Strain fans. It's a col...   \n",
       "1  I don't care much for Dr. Seuss but after read...   \n",
       "2  If people become the books they read and if \"t...   \n",
       "3  Theodore Seuss Geisel (1904-1991), aka &quot;D...   \n",
       "4  Philip Nel - Dr. Seuss: American IconThis is b...   \n",
       "\n",
       "                                         description           authors  \\\n",
       "0                                                NaN  ['Julie Strain']   \n",
       "1  Philip Nel takes a fascinating look into the k...    ['Philip Nel']   \n",
       "2  Philip Nel takes a fascinating look into the k...    ['Philip Nel']   \n",
       "3  Philip Nel takes a fascinating look into the k...    ['Philip Nel']   \n",
       "4  Philip Nel takes a fascinating look into the k...    ['Philip Nel']   \n",
       "\n",
       "                                               image  \\\n",
       "0  http://books.google.com/books/content?id=DykPA...   \n",
       "1  http://books.google.com/books/content?id=IjvHQ...   \n",
       "2  http://books.google.com/books/content?id=IjvHQ...   \n",
       "3  http://books.google.com/books/content?id=IjvHQ...   \n",
       "4  http://books.google.com/books/content?id=IjvHQ...   \n",
       "\n",
       "                                         previewLink  publisher publishedDate  \\\n",
       "0  http://books.google.nl/books?id=DykPAAAACAAJ&d...        NaN          1996   \n",
       "1  http://books.google.nl/books?id=IjvHQsCn_pgC&p...  A&C Black    2005-01-01   \n",
       "2  http://books.google.nl/books?id=IjvHQsCn_pgC&p...  A&C Black    2005-01-01   \n",
       "3  http://books.google.nl/books?id=IjvHQsCn_pgC&p...  A&C Black    2005-01-01   \n",
       "4  http://books.google.nl/books?id=IjvHQsCn_pgC&p...  A&C Black    2005-01-01   \n",
       "\n",
       "                                            infoLink  \\\n",
       "0  http://books.google.nl/books?id=DykPAAAACAAJ&d...   \n",
       "1  http://books.google.nl/books?id=IjvHQsCn_pgC&d...   \n",
       "2  http://books.google.nl/books?id=IjvHQsCn_pgC&d...   \n",
       "3  http://books.google.nl/books?id=IjvHQsCn_pgC&d...   \n",
       "4  http://books.google.nl/books?id=IjvHQsCn_pgC&d...   \n",
       "\n",
       "                      categories  ratingsCount  \n",
       "0    ['Comics & Graphic Novels']           NaN  \n",
       "1  ['Biography & Autobiography']           NaN  \n",
       "2  ['Biography & Autobiography']           NaN  \n",
       "3  ['Biography & Autobiography']           NaN  \n",
       "4  ['Biography & Autobiography']           NaN  "
      ]
     },
     "execution_count": 6,
     "metadata": {},
     "output_type": "execute_result"
    }
   ],
   "source": [
    "df_temp.head()"
   ]
  },
  {
   "cell_type": "code",
   "execution_count": 7,
   "id": "1fbf18b3",
   "metadata": {
    "execution": {
     "iopub.execute_input": "2024-05-01T03:29:41.321423Z",
     "iopub.status.busy": "2024-05-01T03:29:41.320545Z",
     "iopub.status.idle": "2024-05-01T03:29:41.326994Z",
     "shell.execute_reply": "2024-05-01T03:29:41.325935Z"
    },
    "papermill": {
     "duration": 0.015482,
     "end_time": "2024-05-01T03:29:41.329222",
     "exception": false,
     "start_time": "2024-05-01T03:29:41.313740",
     "status": "completed"
    },
    "tags": []
   },
   "outputs": [
    {
     "data": {
      "text/plain": [
       "(3000000, 19)"
      ]
     },
     "execution_count": 7,
     "metadata": {},
     "output_type": "execute_result"
    }
   ],
   "source": [
    "df_temp.shape"
   ]
  },
  {
   "cell_type": "markdown",
   "id": "88725e89",
   "metadata": {
    "papermill": {
     "duration": 0.005276,
     "end_time": "2024-05-01T03:29:41.340034",
     "exception": false,
     "start_time": "2024-05-01T03:29:41.334758",
     "status": "completed"
    },
    "tags": []
   },
   "source": [
    "## Seleção e filtragem dos dados"
   ]
  },
  {
   "cell_type": "code",
   "execution_count": 8,
   "id": "12856d81",
   "metadata": {
    "execution": {
     "iopub.execute_input": "2024-05-01T03:29:41.354227Z",
     "iopub.status.busy": "2024-05-01T03:29:41.353843Z",
     "iopub.status.idle": "2024-05-01T03:29:41.619805Z",
     "shell.execute_reply": "2024-05-01T03:29:41.618764Z"
    },
    "papermill": {
     "duration": 0.274952,
     "end_time": "2024-05-01T03:29:41.622011",
     "exception": false,
     "start_time": "2024-05-01T03:29:41.347059",
     "status": "completed"
    },
    "tags": []
   },
   "outputs": [
    {
     "data": {
      "text/html": [
       "<div>\n",
       "<style scoped>\n",
       "    .dataframe tbody tr th:only-of-type {\n",
       "        vertical-align: middle;\n",
       "    }\n",
       "\n",
       "    .dataframe tbody tr th {\n",
       "        vertical-align: top;\n",
       "    }\n",
       "\n",
       "    .dataframe thead th {\n",
       "        text-align: right;\n",
       "    }\n",
       "</style>\n",
       "<table border=\"1\" class=\"dataframe\">\n",
       "  <thead>\n",
       "    <tr style=\"text-align: right;\">\n",
       "      <th></th>\n",
       "      <th>Title</th>\n",
       "      <th>authors</th>\n",
       "      <th>publisher</th>\n",
       "      <th>publishedDate</th>\n",
       "      <th>Price</th>\n",
       "      <th>review/helpfulness</th>\n",
       "      <th>review/score</th>\n",
       "      <th>review/time</th>\n",
       "      <th>review/summary</th>\n",
       "    </tr>\n",
       "  </thead>\n",
       "  <tbody>\n",
       "    <tr>\n",
       "      <th>0</th>\n",
       "      <td>Its Only Art If Its Well Hung!</td>\n",
       "      <td>['Julie Strain']</td>\n",
       "      <td>NaN</td>\n",
       "      <td>1996</td>\n",
       "      <td>NaN</td>\n",
       "      <td>7/7</td>\n",
       "      <td>4.0</td>\n",
       "      <td>940636800</td>\n",
       "      <td>Nice collection of Julie Strain images</td>\n",
       "    </tr>\n",
       "    <tr>\n",
       "      <th>1</th>\n",
       "      <td>Dr. Seuss: American Icon</td>\n",
       "      <td>['Philip Nel']</td>\n",
       "      <td>A&amp;C Black</td>\n",
       "      <td>2005-01-01</td>\n",
       "      <td>NaN</td>\n",
       "      <td>10/10</td>\n",
       "      <td>5.0</td>\n",
       "      <td>1095724800</td>\n",
       "      <td>Really Enjoyed It</td>\n",
       "    </tr>\n",
       "    <tr>\n",
       "      <th>2</th>\n",
       "      <td>Dr. Seuss: American Icon</td>\n",
       "      <td>['Philip Nel']</td>\n",
       "      <td>A&amp;C Black</td>\n",
       "      <td>2005-01-01</td>\n",
       "      <td>NaN</td>\n",
       "      <td>10/11</td>\n",
       "      <td>5.0</td>\n",
       "      <td>1078790400</td>\n",
       "      <td>Essential for every personal and Public Library</td>\n",
       "    </tr>\n",
       "    <tr>\n",
       "      <th>3</th>\n",
       "      <td>Dr. Seuss: American Icon</td>\n",
       "      <td>['Philip Nel']</td>\n",
       "      <td>A&amp;C Black</td>\n",
       "      <td>2005-01-01</td>\n",
       "      <td>NaN</td>\n",
       "      <td>7/7</td>\n",
       "      <td>4.0</td>\n",
       "      <td>1090713600</td>\n",
       "      <td>Phlip Nel gives silly Seuss a serious treatment</td>\n",
       "    </tr>\n",
       "    <tr>\n",
       "      <th>4</th>\n",
       "      <td>Dr. Seuss: American Icon</td>\n",
       "      <td>['Philip Nel']</td>\n",
       "      <td>A&amp;C Black</td>\n",
       "      <td>2005-01-01</td>\n",
       "      <td>NaN</td>\n",
       "      <td>3/3</td>\n",
       "      <td>4.0</td>\n",
       "      <td>1107993600</td>\n",
       "      <td>Good academic overview</td>\n",
       "    </tr>\n",
       "    <tr>\n",
       "      <th>...</th>\n",
       "      <td>...</td>\n",
       "      <td>...</td>\n",
       "      <td>...</td>\n",
       "      <td>...</td>\n",
       "      <td>...</td>\n",
       "      <td>...</td>\n",
       "      <td>...</td>\n",
       "      <td>...</td>\n",
       "      <td>...</td>\n",
       "    </tr>\n",
       "    <tr>\n",
       "      <th>2999995</th>\n",
       "      <td>The Idea of History</td>\n",
       "      <td>['R. G. Collingwood']</td>\n",
       "      <td>White Press</td>\n",
       "      <td>2018-06-21</td>\n",
       "      <td>NaN</td>\n",
       "      <td>14/19</td>\n",
       "      <td>4.0</td>\n",
       "      <td>937612800</td>\n",
       "      <td>Difficult</td>\n",
       "    </tr>\n",
       "    <tr>\n",
       "      <th>2999996</th>\n",
       "      <td>The Idea of History</td>\n",
       "      <td>['R. G. Collingwood']</td>\n",
       "      <td>White Press</td>\n",
       "      <td>2018-06-21</td>\n",
       "      <td>NaN</td>\n",
       "      <td>1/1</td>\n",
       "      <td>4.0</td>\n",
       "      <td>1331683200</td>\n",
       "      <td>Quite good and ahead of its time occasionally</td>\n",
       "    </tr>\n",
       "    <tr>\n",
       "      <th>2999997</th>\n",
       "      <td>The Idea of History</td>\n",
       "      <td>['R. G. Collingwood']</td>\n",
       "      <td>White Press</td>\n",
       "      <td>2018-06-21</td>\n",
       "      <td>NaN</td>\n",
       "      <td>0/0</td>\n",
       "      <td>4.0</td>\n",
       "      <td>1180224000</td>\n",
       "      <td>Easier reads of those not well versed in histo...</td>\n",
       "    </tr>\n",
       "    <tr>\n",
       "      <th>2999998</th>\n",
       "      <td>The Idea of History</td>\n",
       "      <td>['R. G. Collingwood']</td>\n",
       "      <td>White Press</td>\n",
       "      <td>2018-06-21</td>\n",
       "      <td>NaN</td>\n",
       "      <td>1/11</td>\n",
       "      <td>5.0</td>\n",
       "      <td>1163030400</td>\n",
       "      <td>Yes, it is cheaper than the University Bookstore</td>\n",
       "    </tr>\n",
       "    <tr>\n",
       "      <th>2999999</th>\n",
       "      <td>The Idea of History</td>\n",
       "      <td>['R. G. Collingwood']</td>\n",
       "      <td>White Press</td>\n",
       "      <td>2018-06-21</td>\n",
       "      <td>NaN</td>\n",
       "      <td>7/49</td>\n",
       "      <td>1.0</td>\n",
       "      <td>905385600</td>\n",
       "      <td>Collingwood's ideas sink in a quagmire or verb...</td>\n",
       "    </tr>\n",
       "  </tbody>\n",
       "</table>\n",
       "<p>3000000 rows × 9 columns</p>\n",
       "</div>"
      ],
      "text/plain": [
       "                                  Title                authors    publisher  \\\n",
       "0        Its Only Art If Its Well Hung!       ['Julie Strain']          NaN   \n",
       "1              Dr. Seuss: American Icon         ['Philip Nel']    A&C Black   \n",
       "2              Dr. Seuss: American Icon         ['Philip Nel']    A&C Black   \n",
       "3              Dr. Seuss: American Icon         ['Philip Nel']    A&C Black   \n",
       "4              Dr. Seuss: American Icon         ['Philip Nel']    A&C Black   \n",
       "...                                 ...                    ...          ...   \n",
       "2999995             The Idea of History  ['R. G. Collingwood']  White Press   \n",
       "2999996             The Idea of History  ['R. G. Collingwood']  White Press   \n",
       "2999997             The Idea of History  ['R. G. Collingwood']  White Press   \n",
       "2999998             The Idea of History  ['R. G. Collingwood']  White Press   \n",
       "2999999             The Idea of History  ['R. G. Collingwood']  White Press   \n",
       "\n",
       "        publishedDate  Price review/helpfulness  review/score  review/time  \\\n",
       "0                1996    NaN                7/7           4.0    940636800   \n",
       "1          2005-01-01    NaN              10/10           5.0   1095724800   \n",
       "2          2005-01-01    NaN              10/11           5.0   1078790400   \n",
       "3          2005-01-01    NaN                7/7           4.0   1090713600   \n",
       "4          2005-01-01    NaN                3/3           4.0   1107993600   \n",
       "...               ...    ...                ...           ...          ...   \n",
       "2999995    2018-06-21    NaN              14/19           4.0    937612800   \n",
       "2999996    2018-06-21    NaN                1/1           4.0   1331683200   \n",
       "2999997    2018-06-21    NaN                0/0           4.0   1180224000   \n",
       "2999998    2018-06-21    NaN               1/11           5.0   1163030400   \n",
       "2999999    2018-06-21    NaN               7/49           1.0    905385600   \n",
       "\n",
       "                                            review/summary  \n",
       "0                   Nice collection of Julie Strain images  \n",
       "1                                        Really Enjoyed It  \n",
       "2          Essential for every personal and Public Library  \n",
       "3          Phlip Nel gives silly Seuss a serious treatment  \n",
       "4                                   Good academic overview  \n",
       "...                                                    ...  \n",
       "2999995                                          Difficult  \n",
       "2999996      Quite good and ahead of its time occasionally  \n",
       "2999997  Easier reads of those not well versed in histo...  \n",
       "2999998   Yes, it is cheaper than the University Bookstore  \n",
       "2999999  Collingwood's ideas sink in a quagmire or verb...  \n",
       "\n",
       "[3000000 rows x 9 columns]"
      ]
     },
     "execution_count": 8,
     "metadata": {},
     "output_type": "execute_result"
    }
   ],
   "source": [
    "df = df_temp[[\n",
    " 'Title',\n",
    " 'authors',\n",
    " 'publisher',\n",
    " 'publishedDate',\n",
    " 'Price',\n",
    " 'review/helpfulness',\n",
    " 'review/score',\n",
    " 'review/time',\n",
    " 'review/summary']]\n",
    "\n",
    "df"
   ]
  },
  {
   "cell_type": "markdown",
   "id": "33e665e3",
   "metadata": {
    "papermill": {
     "duration": 0.005597,
     "end_time": "2024-05-01T03:29:41.633522",
     "exception": false,
     "start_time": "2024-05-01T03:29:41.627925",
     "status": "completed"
    },
    "tags": []
   },
   "source": [
    "Listando os livros mais avaliados."
   ]
  },
  {
   "cell_type": "code",
   "execution_count": 9,
   "id": "ed3e4f19",
   "metadata": {
    "execution": {
     "iopub.execute_input": "2024-05-01T03:29:41.647077Z",
     "iopub.status.busy": "2024-05-01T03:29:41.646166Z",
     "iopub.status.idle": "2024-05-01T03:29:41.941341Z",
     "shell.execute_reply": "2024-05-01T03:29:41.940266Z"
    },
    "papermill": {
     "duration": 0.304605,
     "end_time": "2024-05-01T03:29:41.943822",
     "exception": false,
     "start_time": "2024-05-01T03:29:41.639217",
     "status": "completed"
    },
    "tags": []
   },
   "outputs": [
    {
     "data": {
      "text/plain": [
       "Title\n",
       "The Hobbit             22023\n",
       "Pride and Prejudice    20371\n",
       "Atlas Shrugged         12513\n",
       "Wuthering Heights      10780\n",
       "The Giver               7644\n",
       "Name: count, dtype: int64"
      ]
     },
     "execution_count": 9,
     "metadata": {},
     "output_type": "execute_result"
    }
   ],
   "source": [
    "df_temp = df['Title'].value_counts()\n",
    "df_temp.head()"
   ]
  },
  {
   "cell_type": "markdown",
   "id": "4054dd4b",
   "metadata": {
    "papermill": {
     "duration": 0.005595,
     "end_time": "2024-05-01T03:29:41.955592",
     "exception": false,
     "start_time": "2024-05-01T03:29:41.949997",
     "status": "completed"
    },
    "tags": []
   },
   "source": [
    "Menos avaliados"
   ]
  },
  {
   "cell_type": "code",
   "execution_count": 10,
   "id": "96e66b87",
   "metadata": {
    "execution": {
     "iopub.execute_input": "2024-05-01T03:29:41.969355Z",
     "iopub.status.busy": "2024-05-01T03:29:41.968955Z",
     "iopub.status.idle": "2024-05-01T03:29:41.976274Z",
     "shell.execute_reply": "2024-05-01T03:29:41.975335Z"
    },
    "papermill": {
     "duration": 0.016433,
     "end_time": "2024-05-01T03:29:41.978400",
     "exception": false,
     "start_time": "2024-05-01T03:29:41.961967",
     "status": "completed"
    },
    "tags": []
   },
   "outputs": [
    {
     "data": {
      "text/plain": [
       "Title\n",
       "Illuminatus! Part I: The Eye in the Pyramid (The eye in the Pyramid, The Golden Apple,Leviathan, Parts 1, 2, 3)    1\n",
       "Modern Chess Openings                                                                                              1\n",
       "Child Abuse and Neglect: Cases and Materials (American Casebook Series)                                            1\n",
       "Reading Is Seeing                                                                                                  1\n",
       "Its Only Art If Its Well Hung!                                                                                     1\n",
       "Name: count, dtype: int64"
      ]
     },
     "execution_count": 10,
     "metadata": {},
     "output_type": "execute_result"
    }
   ],
   "source": [
    "df_temp.tail()"
   ]
  },
  {
   "cell_type": "markdown",
   "id": "dceb9601",
   "metadata": {
    "papermill": {
     "duration": 0.005779,
     "end_time": "2024-05-01T03:29:41.990252",
     "exception": false,
     "start_time": "2024-05-01T03:29:41.984473",
     "status": "completed"
    },
    "tags": []
   },
   "source": [
    "Autores mais avaliados"
   ]
  },
  {
   "cell_type": "code",
   "execution_count": 11,
   "id": "72447f12",
   "metadata": {
    "collapsed": true,
    "execution": {
     "iopub.execute_input": "2024-05-01T03:29:42.003866Z",
     "iopub.status.busy": "2024-05-01T03:29:42.003481Z",
     "iopub.status.idle": "2024-05-01T03:29:42.255001Z",
     "shell.execute_reply": "2024-05-01T03:29:42.253931Z"
    },
    "jupyter": {
     "outputs_hidden": true
    },
    "papermill": {
     "duration": 0.261096,
     "end_time": "2024-05-01T03:29:42.257314",
     "exception": false,
     "start_time": "2024-05-01T03:29:41.996218",
     "status": "completed"
    },
    "tags": []
   },
   "outputs": [
    {
     "data": {
      "text/plain": [
       "authors\n",
       "['J. R. R. Tolkien']             37268\n",
       "['Jane Austen']                  36532\n",
       "['Charles Dickens']              21270\n",
       "['John Steinbeck']               17027\n",
       "['John Ronald Reuel Tolkien']    12906\n",
       "Name: count, dtype: int64"
      ]
     },
     "execution_count": 11,
     "metadata": {},
     "output_type": "execute_result"
    }
   ],
   "source": [
    "df_temp = df['authors'].value_counts()\n",
    "df_temp.head()"
   ]
  },
  {
   "cell_type": "markdown",
   "id": "89380b0d",
   "metadata": {
    "papermill": {
     "duration": 0.006061,
     "end_time": "2024-05-01T03:29:42.269594",
     "exception": false,
     "start_time": "2024-05-01T03:29:42.263533",
     "status": "completed"
    },
    "tags": []
   },
   "source": [
    "Autores com menos avaliações."
   ]
  },
  {
   "cell_type": "code",
   "execution_count": 12,
   "id": "0b6346cb",
   "metadata": {
    "execution": {
     "iopub.execute_input": "2024-05-01T03:29:42.283457Z",
     "iopub.status.busy": "2024-05-01T03:29:42.283073Z",
     "iopub.status.idle": "2024-05-01T03:29:42.290368Z",
     "shell.execute_reply": "2024-05-01T03:29:42.289417Z"
    },
    "papermill": {
     "duration": 0.01672,
     "end_time": "2024-05-01T03:29:42.292445",
     "exception": false,
     "start_time": "2024-05-01T03:29:42.275725",
     "status": "completed"
    },
    "tags": []
   },
   "outputs": [
    {
     "data": {
      "text/plain": [
       "authors\n",
       "['Storm Jameson']                      1\n",
       "['David W. Brady']                     1\n",
       "['Robert Blake']                       1\n",
       "['Graeme Lorimer', 'Sarah Lorimer']    1\n",
       "['Saint Romanos']                      1\n",
       "Name: count, dtype: int64"
      ]
     },
     "execution_count": 12,
     "metadata": {},
     "output_type": "execute_result"
    }
   ],
   "source": [
    "df_temp.tail()"
   ]
  },
  {
   "cell_type": "code",
   "execution_count": 13,
   "id": "dcebecd9",
   "metadata": {
    "execution": {
     "iopub.execute_input": "2024-05-01T03:29:42.306948Z",
     "iopub.status.busy": "2024-05-01T03:29:42.306295Z",
     "iopub.status.idle": "2024-05-01T03:29:43.226226Z",
     "shell.execute_reply": "2024-05-01T03:29:43.225174Z"
    },
    "papermill": {
     "duration": 0.929756,
     "end_time": "2024-05-01T03:29:43.228546",
     "exception": false,
     "start_time": "2024-05-01T03:29:42.298790",
     "status": "completed"
    },
    "tags": []
   },
   "outputs": [
    {
     "data": {
      "text/html": [
       "<div>\n",
       "<style scoped>\n",
       "    .dataframe tbody tr th:only-of-type {\n",
       "        vertical-align: middle;\n",
       "    }\n",
       "\n",
       "    .dataframe tbody tr th {\n",
       "        vertical-align: top;\n",
       "    }\n",
       "\n",
       "    .dataframe thead th {\n",
       "        text-align: right;\n",
       "    }\n",
       "</style>\n",
       "<table border=\"1\" class=\"dataframe\">\n",
       "  <thead>\n",
       "    <tr style=\"text-align: right;\">\n",
       "      <th></th>\n",
       "      <th>max</th>\n",
       "      <th>min</th>\n",
       "      <th>mean</th>\n",
       "      <th>median</th>\n",
       "    </tr>\n",
       "    <tr>\n",
       "      <th>Title</th>\n",
       "      <th></th>\n",
       "      <th></th>\n",
       "      <th></th>\n",
       "      <th></th>\n",
       "    </tr>\n",
       "  </thead>\n",
       "  <tbody>\n",
       "    <tr>\n",
       "      <th>God Game</th>\n",
       "      <td>5.0</td>\n",
       "      <td>1.0</td>\n",
       "      <td>4.250000</td>\n",
       "      <td>5.0</td>\n",
       "    </tr>\n",
       "    <tr>\n",
       "      <th>K'Tonton's Yom Kippur Kitten</th>\n",
       "      <td>5.0</td>\n",
       "      <td>5.0</td>\n",
       "      <td>5.000000</td>\n",
       "      <td>5.0</td>\n",
       "    </tr>\n",
       "    <tr>\n",
       "      <th>The Contract Surgeon</th>\n",
       "      <td>5.0</td>\n",
       "      <td>4.0</td>\n",
       "      <td>4.666667</td>\n",
       "      <td>5.0</td>\n",
       "    </tr>\n",
       "    <tr>\n",
       "      <th>K2: Challenging the Sky</th>\n",
       "      <td>5.0</td>\n",
       "      <td>4.0</td>\n",
       "      <td>4.666667</td>\n",
       "      <td>5.0</td>\n",
       "    </tr>\n",
       "    <tr>\n",
       "      <th>The Contractor</th>\n",
       "      <td>5.0</td>\n",
       "      <td>5.0</td>\n",
       "      <td>5.000000</td>\n",
       "      <td>5.0</td>\n",
       "    </tr>\n",
       "    <tr>\n",
       "      <th>...</th>\n",
       "      <td>...</td>\n",
       "      <td>...</td>\n",
       "      <td>...</td>\n",
       "      <td>...</td>\n",
       "    </tr>\n",
       "    <tr>\n",
       "      <th>A Reconstruction of the Assyro-Babylonian God-Lists An: Da-Nu-Um &amp; An: Anu Sa Ameli</th>\n",
       "      <td>1.0</td>\n",
       "      <td>1.0</td>\n",
       "      <td>1.000000</td>\n",
       "      <td>1.0</td>\n",
       "    </tr>\n",
       "    <tr>\n",
       "      <th>Introduction to Biotechnology: An Agricultural Revolution</th>\n",
       "      <td>1.0</td>\n",
       "      <td>1.0</td>\n",
       "      <td>1.000000</td>\n",
       "      <td>1.0</td>\n",
       "    </tr>\n",
       "    <tr>\n",
       "      <th>The Bacunador way: Mobile Audio Learning system (Tagalog Edition)</th>\n",
       "      <td>1.0</td>\n",
       "      <td>1.0</td>\n",
       "      <td>1.000000</td>\n",
       "      <td>1.0</td>\n",
       "    </tr>\n",
       "    <tr>\n",
       "      <th>Dialogue - A Socratic Dialogue On The Art Of Writing Dialogue In Fiction</th>\n",
       "      <td>5.0</td>\n",
       "      <td>1.0</td>\n",
       "      <td>1.733333</td>\n",
       "      <td>1.0</td>\n",
       "    </tr>\n",
       "    <tr>\n",
       "      <th>Joseph Franke and Teresa M. Telecky. Reptiles as Pets: An Examination of the Trade in Live Reptiles in the United States. (book review): An article from: Journal of International Wildlife Law &amp; Policy</th>\n",
       "      <td>1.0</td>\n",
       "      <td>1.0</td>\n",
       "      <td>1.000000</td>\n",
       "      <td>1.0</td>\n",
       "    </tr>\n",
       "  </tbody>\n",
       "</table>\n",
       "<p>212403 rows × 4 columns</p>\n",
       "</div>"
      ],
      "text/plain": [
       "                                                    max  min      mean  median\n",
       "Title                                                                         \n",
       "God Game                                            5.0  1.0  4.250000     5.0\n",
       "K'Tonton's Yom Kippur Kitten                        5.0  5.0  5.000000     5.0\n",
       "The Contract Surgeon                                5.0  4.0  4.666667     5.0\n",
       "K2: Challenging the Sky                             5.0  4.0  4.666667     5.0\n",
       "The Contractor                                      5.0  5.0  5.000000     5.0\n",
       "...                                                 ...  ...       ...     ...\n",
       "A Reconstruction of the Assyro-Babylonian God-L...  1.0  1.0  1.000000     1.0\n",
       "Introduction to Biotechnology: An Agricultural ...  1.0  1.0  1.000000     1.0\n",
       "The Bacunador way: Mobile Audio Learning system...  1.0  1.0  1.000000     1.0\n",
       "Dialogue - A Socratic Dialogue On The Art Of Wr...  5.0  1.0  1.733333     1.0\n",
       "Joseph Franke and Teresa M. Telecky. Reptiles a...  1.0  1.0  1.000000     1.0\n",
       "\n",
       "[212403 rows x 4 columns]"
      ]
     },
     "execution_count": 13,
     "metadata": {},
     "output_type": "execute_result"
    }
   ],
   "source": [
    "df.groupby(['Title']) ['review/score'].agg(['max', 'min', 'mean', 'median']).sort_values('median', ascending=False)"
   ]
  }
 ],
 "metadata": {
  "kaggle": {
   "accelerator": "none",
   "dataSources": [
    {
     "datasetId": 2476732,
     "sourceId": 4200454,
     "sourceType": "datasetVersion"
    }
   ],
   "dockerImageVersionId": 30698,
   "isGpuEnabled": false,
   "isInternetEnabled": true,
   "language": "python",
   "sourceType": "notebook"
  },
  "kernelspec": {
   "display_name": "Python 3",
   "language": "python",
   "name": "python3"
  },
  "language_info": {
   "codemirror_mode": {
    "name": "ipython",
    "version": 3
   },
   "file_extension": ".py",
   "mimetype": "text/x-python",
   "name": "python",
   "nbconvert_exporter": "python",
   "pygments_lexer": "ipython3",
   "version": "3.10.13"
  },
  "papermill": {
   "default_parameters": {},
   "duration": 88.864942,
   "end_time": "2024-05-01T03:29:44.760790",
   "environment_variables": {},
   "exception": null,
   "input_path": "__notebook__.ipynb",
   "output_path": "__notebook__.ipynb",
   "parameters": {},
   "start_time": "2024-05-01T03:28:15.895848",
   "version": "2.5.0"
  }
 },
 "nbformat": 4,
 "nbformat_minor": 5
}
